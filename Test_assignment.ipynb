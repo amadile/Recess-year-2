{
 "cells": [
  {
   "cell_type": "code",
   "execution_count": 11,
   "metadata": {},
   "outputs": [
    {
     "name": "stdout",
     "output_type": "stream",
     "text": [
      "             flavor  scoops  price\n",
      "0   white chocolate       1    2.0\n",
      "1           vanilla       1    1.5\n",
      "2    dark chocolate       2    3.0\n",
      "3       straw berry       1    2.0\n",
      "4       straw berry       3    4.0\n",
      "5           vanilla       2    2.0\n",
      "6              mint       1    4.0\n",
      "7              mint       2    5.0\n",
      "8   white chocolate       3    2.0\n",
      "9    dark chocolate       3    3.0\n",
      "10  white chocolate       2    2.0\n",
      "11   dark chocolate       5    3.0\n"
     ]
    }
   ],
   "source": [
    "import pandas as pd\n",
    "data={\n",
    "    'flavor':['white chocolate', 'vanilla', 'dark chocolate', 'straw berry','straw berry', 'vanilla', 'mint', 'mint', 'white chocolate', 'dark chocolate', 'white chocolate', 'dark chocolate'],\n",
    "    'scoops':[1,1,2,1,3,2,1,2,3,3,2,5],\n",
    "    'price':[2,1.5,3,2,4,2,4,5,2,3,2,3]\n",
    "}\n",
    "# Create the DataFrame\n",
    "df = pd.DataFrame(data)\n",
    "\n",
    "# Print the DataFrame\n",
    "print(df)\n",
    "\n"
   ]
  },
  {
   "cell_type": "code",
   "execution_count": 14,
   "metadata": {},
   "outputs": [
    {
     "name": "stdout",
     "output_type": "stream",
     "text": [
      "             flavor  scoops  price  total_price\n",
      "0   white chocolate       1    2.0          2.0\n",
      "1           vanilla       1    1.5          1.5\n",
      "2    dark chocolate       2    3.0          6.0\n",
      "3       straw berry       1    2.0          2.0\n",
      "4       straw berry       3    4.0         12.0\n",
      "5           vanilla       2    2.0          4.0\n",
      "6              mint       1    4.0          4.0\n",
      "7              mint       2    5.0         10.0\n",
      "8   white chocolate       3    2.0          6.0\n",
      "9    dark chocolate       3    3.0          9.0\n",
      "10  white chocolate       2    2.0          4.0\n",
      "11   dark chocolate       5    3.0         15.0\n"
     ]
    }
   ],
   "source": [
    "\n",
    "df['total_price'] = df['scoops'] * df['price']\n",
    "\n",
    "# Print the DataFrame\n",
    "print(df)\n"
   ]
  },
  {
   "cell_type": "code",
   "execution_count": 16,
   "metadata": {},
   "outputs": [
    {
     "name": "stdout",
     "output_type": "stream",
     "text": [
      "Statistics for 'white chocolate': [4. 4. 2. 6. 2.]\n"
     ]
    }
   ],
   "source": [
    "import numpy as np\n",
    "\n",
    "def groupStatistics(data, groupValue):\n",
    "    # Group the data by 'flavors'\n",
    "    grouped_data = data.groupby('flavor')\n",
    "\n",
    "    # Get the group corresponding to the given 'groupValue'\n",
    "    group = grouped_data.get_group(groupValue)\n",
    "\n",
    "    # Calculate statistics for 'total_price'\n",
    "    total_price_stats = np.array([\n",
    "        group['total_price'].mean(),\n",
    "        group['total_price'].median(),\n",
    "        group['total_price'].min(),\n",
    "        group['total_price'].max(),\n",
    "        round(group['total_price'].std(), 2)  # Rounded to 2 decimal places\n",
    "    ])\n",
    "\n",
    "    return total_price_stats\n",
    "\n",
    "# Example usage:\n",
    "flavor_to_analyze = 'white chocolate'\n",
    "stats = groupStatistics(df, flavor_to_analyze)\n",
    "print(f\"Statistics for '{flavor_to_analyze}': {stats}\")\n",
    "\n"
   ]
  }
 ],
 "metadata": {
  "kernelspec": {
   "display_name": "Python 3",
   "language": "python",
   "name": "python3"
  },
  "language_info": {
   "codemirror_mode": {
    "name": "ipython",
    "version": 3
   },
   "file_extension": ".py",
   "mimetype": "text/x-python",
   "name": "python",
   "nbconvert_exporter": "python",
   "pygments_lexer": "ipython3",
   "version": "3.12.3"
  }
 },
 "nbformat": 4,
 "nbformat_minor": 2
}
